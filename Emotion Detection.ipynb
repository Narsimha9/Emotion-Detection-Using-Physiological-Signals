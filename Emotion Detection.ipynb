{
 "cells": [
  {
   "cell_type": "code",
   "execution_count": null,
   "metadata": {},
   "outputs": [],
   "source": [
    "# problem preperation\n",
    "#Load Libraries\n",
    "import pandas as pd\n",
    "import numpy as np\n",
    "import seaborn as sns\n",
    "import matplotlib.pyplot as plt\n",
    "%matplotlib inline\n",
    "from sklearn.preprocessing import Normalizer\n",
    "from pandas.plotting import scatter_matrix"
   ]
  },
  {
   "cell_type": "code",
   "execution_count": 35,
   "metadata": {},
   "outputs": [],
   "source": [
    "# load dataset\n",
    "df = pd.read_csv(\"Detection.csv\")"
   ]
  },
  {
   "cell_type": "code",
   "execution_count": 36,
   "metadata": {},
   "outputs": [],
   "source": [
    "#Data Summarization"
   ]
  },
  {
   "cell_type": "code",
   "execution_count": 37,
   "metadata": {},
   "outputs": [
    {
     "name": "stdout",
     "output_type": "stream",
     "text": [
      "(6995, 6)\n",
      "Index(['Computer Time', 'Time (Milli Sec.)', 'GSR', 'BPM', 'Temperature',\n",
      "       'EMOTIONAL AFFIRM'],\n",
      "      dtype='object')\n"
     ]
    }
   ],
   "source": [
    "#shape\n",
    "print(df.shape)\n",
    "print(df.columns)"
   ]
  },
  {
   "cell_type": "code",
   "execution_count": 38,
   "metadata": {},
   "outputs": [
    {
     "data": {
      "text/plain": [
       "Computer Time        13\n",
       "Time (Milli Sec.)    13\n",
       "GSR                  13\n",
       "BPM                  13\n",
       "Temperature          13\n",
       "EMOTIONAL AFFIRM     13\n",
       "dtype: int64"
      ]
     },
     "execution_count": 38,
     "metadata": {},
     "output_type": "execute_result"
    }
   ],
   "source": [
    "#Checking for Null(NaN) values\n",
    "df.isnull().sum()"
   ]
  },
  {
   "cell_type": "code",
   "execution_count": 6,
   "metadata": {},
   "outputs": [
    {
     "data": {
      "text/plain": [
       "Computer Time        0\n",
       "Time (Milli Sec.)    0\n",
       "GSR                  0\n",
       "BPM                  0\n",
       "Temperature          0\n",
       "EMOTIONAL AFFIRM     0\n",
       "dtype: int64"
      ]
     },
     "execution_count": 6,
     "metadata": {},
     "output_type": "execute_result"
    }
   ],
   "source": [
    "df.dropna(inplace=True)\n",
    "df.isnull().sum()"
   ]
  },
  {
   "cell_type": "code",
   "execution_count": 7,
   "metadata": {},
   "outputs": [
    {
     "name": "stdout",
     "output_type": "stream",
     "text": [
      "Computer Time         object\n",
      "Time (Milli Sec.)    float64\n",
      "GSR                  float64\n",
      "BPM                  float64\n",
      "Temperature          float64\n",
      "EMOTIONAL AFFIRM      object\n",
      "dtype: object\n"
     ]
    }
   ],
   "source": [
    "#types\n",
    "print(df.dtypes)"
   ]
  },
  {
   "cell_type": "code",
   "execution_count": 8,
   "metadata": {},
   "outputs": [
    {
     "data": {
      "text/html": [
       "<div>\n",
       "<style scoped>\n",
       "    .dataframe tbody tr th:only-of-type {\n",
       "        vertical-align: middle;\n",
       "    }\n",
       "\n",
       "    .dataframe tbody tr th {\n",
       "        vertical-align: top;\n",
       "    }\n",
       "\n",
       "    .dataframe thead th {\n",
       "        text-align: right;\n",
       "    }\n",
       "</style>\n",
       "<table border=\"1\" class=\"dataframe\">\n",
       "  <thead>\n",
       "    <tr style=\"text-align: right;\">\n",
       "      <th></th>\n",
       "      <th>Computer Time</th>\n",
       "      <th>Time (Milli Sec.)</th>\n",
       "      <th>GSR</th>\n",
       "      <th>BPM</th>\n",
       "      <th>Temperature</th>\n",
       "      <th>EMOTIONAL AFFIRM</th>\n",
       "    </tr>\n",
       "  </thead>\n",
       "  <tbody>\n",
       "    <tr>\n",
       "      <th>0</th>\n",
       "      <td>22:35:38</td>\n",
       "      <td>8937.0</td>\n",
       "      <td>482.0</td>\n",
       "      <td>66.0</td>\n",
       "      <td>21.97</td>\n",
       "      <td>RELAXED</td>\n",
       "    </tr>\n",
       "    <tr>\n",
       "      <th>1</th>\n",
       "      <td>22:35:38</td>\n",
       "      <td>9150.0</td>\n",
       "      <td>480.0</td>\n",
       "      <td>66.0</td>\n",
       "      <td>31.74</td>\n",
       "      <td>RELAXED</td>\n",
       "    </tr>\n",
       "    <tr>\n",
       "      <th>2</th>\n",
       "      <td>22:35:39</td>\n",
       "      <td>9362.0</td>\n",
       "      <td>481.0</td>\n",
       "      <td>66.0</td>\n",
       "      <td>23.93</td>\n",
       "      <td>RELAXED</td>\n",
       "    </tr>\n",
       "    <tr>\n",
       "      <th>3</th>\n",
       "      <td>22:35:39</td>\n",
       "      <td>9575.0</td>\n",
       "      <td>483.0</td>\n",
       "      <td>70.0</td>\n",
       "      <td>37.11</td>\n",
       "      <td>RELAXED</td>\n",
       "    </tr>\n",
       "    <tr>\n",
       "      <th>4</th>\n",
       "      <td>22:35:39</td>\n",
       "      <td>9787.0</td>\n",
       "      <td>479.0</td>\n",
       "      <td>70.0</td>\n",
       "      <td>23.93</td>\n",
       "      <td>RELAXED</td>\n",
       "    </tr>\n",
       "  </tbody>\n",
       "</table>\n",
       "</div>"
      ],
      "text/plain": [
       "  Computer Time  Time (Milli Sec.)    GSR   BPM  Temperature EMOTIONAL AFFIRM\n",
       "0      22:35:38             8937.0  482.0  66.0        21.97          RELAXED\n",
       "1      22:35:38             9150.0  480.0  66.0        31.74          RELAXED\n",
       "2      22:35:39             9362.0  481.0  66.0        23.93          RELAXED\n",
       "3      22:35:39             9575.0  483.0  70.0        37.11          RELAXED\n",
       "4      22:35:39             9787.0  479.0  70.0        23.93          RELAXED"
      ]
     },
     "execution_count": 8,
     "metadata": {},
     "output_type": "execute_result"
    }
   ],
   "source": [
    "#head\n",
    "df.head()"
   ]
  },
  {
   "cell_type": "code",
   "execution_count": 9,
   "metadata": {},
   "outputs": [],
   "source": [
    "#Descriptive statistics"
   ]
  },
  {
   "cell_type": "code",
   "execution_count": 10,
   "metadata": {},
   "outputs": [
    {
     "name": "stdout",
     "output_type": "stream",
     "text": [
      "       Time (Milli Sec.)          GSR          BPM  Temperature\n",
      "count       6.982000e+03  6982.000000  6982.000000  6982.000000\n",
      "mean        4.633324e+05   437.525637    96.815812    27.899487\n",
      "std         2.705281e+05   104.307760    14.144633    19.234574\n",
      "min         8.937000e+03   139.000000    65.000000     6.350000\n",
      "25%         2.450458e+05   352.000000    86.000000    23.440000\n",
      "50%         4.308305e+05   485.000000    96.000000    25.880000\n",
      "75%         6.039202e+05   530.000000   106.000000    28.810000\n",
      "max         1.106392e+06   599.000000   135.000000   477.540000\n"
     ]
    }
   ],
   "source": [
    "print(df.describe())"
   ]
  },
  {
   "cell_type": "code",
   "execution_count": 11,
   "metadata": {},
   "outputs": [
    {
     "name": "stdout",
     "output_type": "stream",
     "text": [
      "<class 'pandas.core.frame.DataFrame'>\n",
      "Int64Index: 6982 entries, 0 to 6994\n",
      "Data columns (total 6 columns):\n",
      "Computer Time        6982 non-null object\n",
      "Time (Milli Sec.)    6982 non-null float64\n",
      "GSR                  6982 non-null float64\n",
      "BPM                  6982 non-null float64\n",
      "Temperature          6982 non-null float64\n",
      "EMOTIONAL AFFIRM     6982 non-null object\n",
      "dtypes: float64(4), object(2)\n",
      "memory usage: 381.8+ KB\n"
     ]
    }
   ],
   "source": [
    "df.info()"
   ]
  },
  {
   "cell_type": "code",
   "execution_count": 12,
   "metadata": {},
   "outputs": [
    {
     "data": {
      "image/png": "[encoded data removed]",
      "text/plain": [
       "<Figure size 432x288 with 4 Axes>"
      ]
     },
     "metadata": {
      "needs_background": "light"
     },
     "output_type": "display_data"
    }
   ],
   "source": [
    "#histogram\n",
    "df.hist()\n",
    "plt.show()"
   ]
  },
  {
   "cell_type": "code",
   "execution_count": 13,
   "metadata": {},
   "outputs": [
    {
     "data": {
      "text/plain": [
       "array(['RELAXED', 'SAD', 'HAPPY', 'ANGRY'], dtype=object)"
      ]
     },
     "execution_count": 13,
     "metadata": {},
     "output_type": "execute_result"
    }
   ],
   "source": [
    "#how many categories we have?\n",
    "df['EMOTIONAL AFFIRM'].unique()"
   ]
  },
  {
   "cell_type": "code",
   "execution_count": 14,
   "metadata": {},
   "outputs": [
    {
     "data": {
      "image/png": "[encoded data removed]",
      "text/plain": [
       "<Figure size 432x216 with 1 Axes>"
      ]
     },
     "metadata": {
      "needs_background": "light"
     },
     "output_type": "display_data"
    }
   ],
   "source": [
    "plt.figure(figsize = (6,3))\n",
    "sns.countplot(df['EMOTIONAL AFFIRM'])\n",
    "plt.show()"
   ]
  },
  {
   "cell_type": "code",
   "execution_count": 15,
   "metadata": {},
   "outputs": [
    {
     "data": {
      "text/plain": [
       "HAPPY      5339\n",
       "RELAXED     782\n",
       "SAD         724\n",
       "ANGRY       137\n",
       "Name: EMOTIONAL AFFIRM, dtype: int64"
      ]
     },
     "execution_count": 15,
     "metadata": {},
     "output_type": "execute_result"
    }
   ],
   "source": [
    "df['EMOTIONAL AFFIRM'].value_counts()"
   ]
  },
  {
   "cell_type": "code",
   "execution_count": 16,
   "metadata": {},
   "outputs": [
    {
     "data": {
      "text/plain": [
       "Computer Time        0\n",
       "Time (Milli Sec.)    0\n",
       "GSR                  0\n",
       "BPM                  0\n",
       "Temperature          0\n",
       "EMOTIONAL AFFIRM     0\n",
       "dtype: int64"
      ]
     },
     "execution_count": 16,
     "metadata": {},
     "output_type": "execute_result"
    }
   ],
   "source": [
    "df.isnull().sum() #no missing values"
   ]
  },
  {
   "cell_type": "code",
   "execution_count": 18,
   "metadata": {},
   "outputs": [],
   "source": [
    "#split into features and labels sets\n",
    "X = df.drop(['Computer Time','EMOTIONAL AFFIRM'],axis = 1) #features\n",
    "y = df['EMOTIONAL AFFIRM'] #labels"
   ]
  },
  {
   "cell_type": "code",
   "execution_count": 19,
   "metadata": {},
   "outputs": [
    {
     "name": "stdout",
     "output_type": "stream",
     "text": [
      "<class 'pandas.core.frame.DataFrame'>\n",
      "Int64Index: 6982 entries, 0 to 6994\n",
      "Data columns (total 4 columns):\n",
      "Time (Milli Sec.)    6982 non-null float64\n",
      "GSR                  6982 non-null float64\n",
      "BPM                  6982 non-null float64\n",
      "Temperature          6982 non-null float64\n",
      "dtypes: float64(4)\n",
      "memory usage: 592.7 KB\n"
     ]
    }
   ],
   "source": [
    "X.info() "
   ]
  },
  {
   "cell_type": "code",
   "execution_count": 20,
   "metadata": {},
   "outputs": [],
   "source": [
    "from sklearn.model_selection import train_test_split\n",
    "\n",
    "X_train, X_test, y_train, y_test = train_test_split(X, y, test_size=0.3, random_state = 1)"
   ]
  },
  {
   "cell_type": "markdown",
   "metadata": {},
   "source": [
    "# Logistic Regression"
   ]
  },
  {
   "cell_type": "code",
   "execution_count": 21,
   "metadata": {},
   "outputs": [],
   "source": [
    "from sklearn.linear_model import LogisticRegression\n",
    "m1 = LogisticRegression()\n",
    "m1.fit(X_train, y_train)\n",
    "pred1=m1.predict(X_test)"
   ]
  },
  {
   "cell_type": "code",
   "execution_count": 22,
   "metadata": {},
   "outputs": [],
   "source": [
    "from sklearn.metrics import classification_report, confusion_matrix"
   ]
  },
  {
   "cell_type": "code",
   "execution_count": 23,
   "metadata": {},
   "outputs": [
    {
     "name": "stdout",
     "output_type": "stream",
     "text": [
      "             precision    recall  f1-score   support\n",
      "\n",
      "      ANGRY       0.00      0.00      0.00        39\n",
      "      HAPPY       0.80      1.00      0.89      1609\n",
      "    RELAXED       1.00      0.28      0.43       225\n",
      "        SAD       0.44      0.07      0.12       222\n",
      "\n",
      "avg / total       0.77      0.80      0.74      2095\n",
      "\n"
     ]
    },
    {
     "name": "stderr",
     "output_type": "stream",
     "text": [
      "C:\\ProgramData\\Anaconda3\\lib\\site-packages\\sklearn\\metrics\\classification.py:1135: UndefinedMetricWarning: Precision and F-score are ill-defined and being set to 0.0 in labels with no predicted samples.\n",
      "  'precision', 'predicted', average, warn_for)\n"
     ]
    }
   ],
   "source": [
    "print(classification_report(y_test, pred1))"
   ]
  },
  {
   "cell_type": "code",
   "execution_count": 24,
   "metadata": {},
   "outputs": [],
   "source": [
    "# labels = ['angry', 'Relaxed', 'sad','Angry']\n",
    "labels = ['Relaxed','Happy','Sad','Angry']\n",
    "cm1 = pd.DataFrame(confusion_matrix(y_test, pred1), index = labels, columns = labels)"
   ]
  },
  {
   "cell_type": "code",
   "execution_count": 25,
   "metadata": {},
   "outputs": [
    {
     "data": {
      "image/png": "[encoded data removed]",
      "text/plain": [
       "<Figure size 720x576 with 1 Axes>"
      ]
     },
     "metadata": {
      "needs_background": "light"
     },
     "output_type": "display_data"
    }
   ],
   "source": [
    "plt.figure(figsize = (10, 8))\n",
    "sns.heatmap(cm1, annot = True, cbar = False, fmt = 'g')\n",
    "plt.ylabel('Actual values')\n",
    "plt.xlabel('Predicted values')\n",
    "plt.show()"
   ]
  },
  {
   "cell_type": "code",
   "execution_count": 26,
   "metadata": {},
   "outputs": [],
   "source": [
    "# Since in the above Confusion Matrix we got the highest correlation for the emotiom Happy we can conclude that the particular person is in state of HAPPY"
   ]
  },
  {
   "cell_type": "markdown",
   "metadata": {},
   "source": [
    "# Support Vector Machine"
   ]
  },
  {
   "cell_type": "code",
   "execution_count": 27,
   "metadata": {},
   "outputs": [],
   "source": [
    "from sklearn.svm import SVC\n",
    "from sklearn.model_selection import GridSearchCV"
   ]
  },
  {
   "cell_type": "code",
   "execution_count": 28,
   "metadata": {},
   "outputs": [
    {
     "data": {
      "text/plain": [
       "GridSearchCV(cv=None, error_score='raise',\n",
       "       estimator=SVC(C=1.0, cache_size=200, class_weight=None, coef0=0.0,\n",
       "  decision_function_shape='ovr', degree=3, gamma='auto', kernel='rbf',\n",
       "  max_iter=-1, probability=False, random_state=None, shrinking=True,\n",
       "  tol=0.001, verbose=False),\n",
       "       fit_params=None, iid=True, n_jobs=1,\n",
       "       param_grid={'C': [1, 5, 50], 'gamma': [0.05, 0.1, 0.5, 1, 5]},\n",
       "       pre_dispatch='2*n_jobs', refit=True, return_train_score='warn',\n",
       "       scoring=None, verbose=0)"
      ]
     },
     "execution_count": 28,
     "metadata": {},
     "output_type": "execute_result"
    }
   ],
   "source": [
    "grid = {\n",
    "    'C': [1, 5, 50],\n",
    "    'gamma': [0.05, 0.1, 0.5, 1, 5]\n",
    "}\n",
    "\n",
    "m5 = GridSearchCV(SVC(), grid)\n",
    "m5.fit(X_train, y_train)"
   ]
  },
  {
   "cell_type": "code",
   "execution_count": 29,
   "metadata": {},
   "outputs": [
    {
     "data": {
      "text/plain": [
       "{'C': 1, 'gamma': 0.05}"
      ]
     },
     "execution_count": 29,
     "metadata": {},
     "output_type": "execute_result"
    }
   ],
   "source": [
    "m5.best_params_ "
   ]
  },
  {
   "cell_type": "code",
   "execution_count": 30,
   "metadata": {},
   "outputs": [
    {
     "name": "stdout",
     "output_type": "stream",
     "text": [
      "             precision    recall  f1-score   support\n",
      "\n",
      "      ANGRY       0.00      0.00      0.00        39\n",
      "      HAPPY       0.77      1.00      0.87      1609\n",
      "    RELAXED       0.00      0.00      0.00       225\n",
      "        SAD       0.00      0.00      0.00       222\n",
      "\n",
      "avg / total       0.59      0.77      0.67      2095\n",
      "\n"
     ]
    },
    {
     "name": "stderr",
     "output_type": "stream",
     "text": [
      "C:\\ProgramData\\Anaconda3\\lib\\site-packages\\sklearn\\metrics\\classification.py:1135: UndefinedMetricWarning: Precision and F-score are ill-defined and being set to 0.0 in labels with no predicted samples.\n",
      "  'precision', 'predicted', average, warn_for)\n"
     ]
    }
   ],
   "source": [
    "pred5 = m5.predict(X_test)\n",
    "print(classification_report(y_test, pred5))"
   ]
  },
  {
   "cell_type": "code",
   "execution_count": 31,
   "metadata": {},
   "outputs": [
    {
     "data": {
      "image/png": "[encoded data removed]",
      "text/plain": [
       "<Figure size 720x576 with 1 Axes>"
      ]
     },
     "metadata": {
      "needs_background": "light"
     },
     "output_type": "display_data"
    }
   ],
   "source": [
    "cm5 = pd.DataFrame(confusion_matrix(y_test, pred5), index = labels, columns = labels)\n",
    "\n",
    "plt.figure(figsize = (10, 8))\n",
    "sns.heatmap(cm5, annot = True, cbar = False, fmt = 'g')\n",
    "plt.ylabel('Actual values')\n",
    "plt.xlabel('Predicted values')\n",
    "plt.show()"
   ]
  },
  {
   "cell_type": "markdown",
   "metadata": {},
   "source": [
    "# Naive Bayes Algorithm"
   ]
  },
  {
   "cell_type": "code",
   "execution_count": 32,
   "metadata": {},
   "outputs": [
    {
     "name": "stdout",
     "output_type": "stream",
     "text": [
      "             precision    recall  f1-score   support\n",
      "\n",
      "      ANGRY       0.83      0.49      0.61        39\n",
      "      HAPPY       0.95      0.87      0.91      1609\n",
      "    RELAXED       0.92      0.25      0.39       225\n",
      "        SAD       0.36      0.86      0.51       222\n",
      "\n",
      "avg / total       0.88      0.80      0.81      2095\n",
      "\n"
     ]
    }
   ],
   "source": [
    "from sklearn.naive_bayes import GaussianNB,MultinomialNB\n",
    "from sklearn.calibration import CalibratedClassifierCV\n",
    "m4=GaussianNB()\n",
    "m4.fit(X_train, y_train)\n",
    "pred4=m4.predict(X_test)\n",
    "print(classification_report(y_test, pred4))"
   ]
  },
  {
   "cell_type": "code",
   "execution_count": 33,
   "metadata": {},
   "outputs": [
    {
     "data": {
      "image/png": "[encoded data removed]",
      "text/plain": [
       "<Figure size 720x576 with 1 Axes>"
      ]
     },
     "metadata": {
      "needs_background": "light"
     },
     "output_type": "display_data"
    }
   ],
   "source": [
    "cm6 = pd.DataFrame(confusion_matrix(y_test, pred4), index = labels, columns = labels)\n",
    "\n",
    "plt.figure(figsize = (10, 8))\n",
    "sns.heatmap(cm6, annot = True, cbar = False, fmt = 'g')\n",
    "plt.ylabel('Actual values')\n",
    "plt.xlabel('Predicted values')\n",
    "plt.show()"
   ]
  },
  {
   "cell_type": "code",
   "execution_count": null,
   "metadata": {},
   "outputs": [],
   "source": []
  },
  {
   "cell_type": "code",
   "execution_count": null,
   "metadata": {},
   "outputs": [],
   "source": []
  }
 ],
 "metadata": {
  "kernelspec": {
   "display_name": "Python 3",
   "language": "python",
   "name": "python3"
  },
  "language_info": {
   "codemirror_mode": {
    "name": "ipython",
    "version": 3
   },
   "file_extension": ".py",
   "mimetype": "text/x-python",
   "name": "python",
   "nbconvert_exporter": "python",
   "pygments_lexer": "ipython3",
   "version": "3.7.0"
  }
 },
 "nbformat": 4,
 "nbformat_minor": 2
}
